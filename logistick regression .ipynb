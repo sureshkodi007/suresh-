{
 "cells": [
  {
   "cell_type": "code",
   "execution_count": 14,
   "id": "1ed73f2b",
   "metadata": {
    "ExecuteTime": {
     "end_time": "2023-03-10T15:14:03.669993Z",
     "start_time": "2023-03-10T15:14:03.652079Z"
    }
   },
   "outputs": [],
   "source": [
    "import pandas as pd\n",
    "import numpy as np\n",
    "import seaborn as sb\n",
    "import matplotlib.pyplot as plt\n",
    "from sklearn.linear_model import LogisticRegression\n",
    "from sklearn.metrics import confusion_matrix\n",
    "from sklearn.metrics import classification_report"
   ]
  },
  {
   "cell_type": "code",
   "execution_count": 15,
   "id": "5b236b0e",
   "metadata": {
    "ExecuteTime": {
     "end_time": "2023-03-10T15:14:05.062295Z",
     "start_time": "2023-03-10T15:14:04.911539Z"
    }
   },
   "outputs": [
    {
     "name": "stdout",
     "output_type": "stream",
     "text": [
      "<class 'pandas.core.frame.DataFrame'>\n",
      "Int64Index: 21538 entries, 0 to 21537\n",
      "Data columns (total 17 columns):\n",
      " #   Column     Non-Null Count  Dtype  \n",
      "---  ------     --------------  -----  \n",
      " 0   age        21538 non-null  int64  \n",
      " 1   job        21538 non-null  object \n",
      " 2   marital    21538 non-null  object \n",
      " 3   education  21538 non-null  object \n",
      " 4   default    21538 non-null  object \n",
      " 5   balance    21538 non-null  float64\n",
      " 6   housing    21538 non-null  object \n",
      " 7   loan       21538 non-null  object \n",
      " 8   contact    21538 non-null  object \n",
      " 9   day        21538 non-null  float64\n",
      " 10  month      21538 non-null  object \n",
      " 11  duration   21538 non-null  float64\n",
      " 12  campaign   21538 non-null  float64\n",
      " 13  pdays      21538 non-null  float64\n",
      " 14  previous   21538 non-null  float64\n",
      " 15  poutcome   21538 non-null  object \n",
      " 16  y          21538 non-null  object \n",
      "dtypes: float64(6), int64(1), object(10)\n",
      "memory usage: 3.0+ MB\n"
     ]
    }
   ],
   "source": [
    "bank=pd.read_csv('bank-full.csv',sep=';')\n",
    "bank=bank.dropna()\n",
    "bank.info()"
   ]
  },
  {
   "cell_type": "code",
   "execution_count": 16,
   "id": "c095e725",
   "metadata": {
    "ExecuteTime": {
     "end_time": "2023-03-10T15:14:06.013850Z",
     "start_time": "2023-03-10T15:14:05.935510Z"
    }
   },
   "outputs": [
    {
     "data": {
      "text/html": [
       "<div>\n",
       "<style scoped>\n",
       "    .dataframe tbody tr th:only-of-type {\n",
       "        vertical-align: middle;\n",
       "    }\n",
       "\n",
       "    .dataframe tbody tr th {\n",
       "        vertical-align: top;\n",
       "    }\n",
       "\n",
       "    .dataframe thead th {\n",
       "        text-align: right;\n",
       "    }\n",
       "</style>\n",
       "<table border=\"1\" class=\"dataframe\">\n",
       "  <thead>\n",
       "    <tr style=\"text-align: right;\">\n",
       "      <th></th>\n",
       "      <th>age</th>\n",
       "      <th>default</th>\n",
       "      <th>balance</th>\n",
       "      <th>housing</th>\n",
       "      <th>loan</th>\n",
       "      <th>day</th>\n",
       "      <th>duration</th>\n",
       "      <th>campaign</th>\n",
       "      <th>pdays</th>\n",
       "      <th>previous</th>\n",
       "      <th>y</th>\n",
       "      <th>job_admin.</th>\n",
       "      <th>job_blue-collar</th>\n",
       "      <th>job_entrepreneur</th>\n",
       "      <th>job_housemaid</th>\n",
       "      <th>job_management</th>\n",
       "      <th>job_retired</th>\n",
       "      <th>job_self-employed</th>\n",
       "      <th>job_services</th>\n",
       "      <th>job_student</th>\n",
       "      <th>job_technician</th>\n",
       "      <th>job_unemployed</th>\n",
       "      <th>job_unknown</th>\n",
       "      <th>marital_divorced</th>\n",
       "      <th>marital_married</th>\n",
       "      <th>marital_single</th>\n",
       "      <th>education_primary</th>\n",
       "      <th>education_secondary</th>\n",
       "      <th>education_tertiary</th>\n",
       "      <th>education_unknown</th>\n",
       "      <th>contact_cellular</th>\n",
       "      <th>contact_telephone</th>\n",
       "      <th>contact_unknown</th>\n",
       "      <th>poutcome_unknown</th>\n",
       "      <th>month_aug</th>\n",
       "      <th>month_jul</th>\n",
       "      <th>month_jun</th>\n",
       "      <th>month_may</th>\n",
       "    </tr>\n",
       "  </thead>\n",
       "  <tbody>\n",
       "    <tr>\n",
       "      <th>0</th>\n",
       "      <td>58</td>\n",
       "      <td>no</td>\n",
       "      <td>2143.0</td>\n",
       "      <td>yes</td>\n",
       "      <td>no</td>\n",
       "      <td>5.0</td>\n",
       "      <td>261.0</td>\n",
       "      <td>1.0</td>\n",
       "      <td>-1.0</td>\n",
       "      <td>0.0</td>\n",
       "      <td>no</td>\n",
       "      <td>0</td>\n",
       "      <td>0</td>\n",
       "      <td>0</td>\n",
       "      <td>0</td>\n",
       "      <td>1</td>\n",
       "      <td>0</td>\n",
       "      <td>0</td>\n",
       "      <td>0</td>\n",
       "      <td>0</td>\n",
       "      <td>0</td>\n",
       "      <td>0</td>\n",
       "      <td>0</td>\n",
       "      <td>0</td>\n",
       "      <td>1</td>\n",
       "      <td>0</td>\n",
       "      <td>0</td>\n",
       "      <td>0</td>\n",
       "      <td>1</td>\n",
       "      <td>0</td>\n",
       "      <td>0</td>\n",
       "      <td>0</td>\n",
       "      <td>1</td>\n",
       "      <td>1</td>\n",
       "      <td>0</td>\n",
       "      <td>0</td>\n",
       "      <td>0</td>\n",
       "      <td>1</td>\n",
       "    </tr>\n",
       "    <tr>\n",
       "      <th>1</th>\n",
       "      <td>44</td>\n",
       "      <td>no</td>\n",
       "      <td>29.0</td>\n",
       "      <td>yes</td>\n",
       "      <td>no</td>\n",
       "      <td>5.0</td>\n",
       "      <td>151.0</td>\n",
       "      <td>1.0</td>\n",
       "      <td>-1.0</td>\n",
       "      <td>0.0</td>\n",
       "      <td>no</td>\n",
       "      <td>0</td>\n",
       "      <td>0</td>\n",
       "      <td>0</td>\n",
       "      <td>0</td>\n",
       "      <td>0</td>\n",
       "      <td>0</td>\n",
       "      <td>0</td>\n",
       "      <td>0</td>\n",
       "      <td>0</td>\n",
       "      <td>1</td>\n",
       "      <td>0</td>\n",
       "      <td>0</td>\n",
       "      <td>0</td>\n",
       "      <td>0</td>\n",
       "      <td>1</td>\n",
       "      <td>0</td>\n",
       "      <td>1</td>\n",
       "      <td>0</td>\n",
       "      <td>0</td>\n",
       "      <td>0</td>\n",
       "      <td>0</td>\n",
       "      <td>1</td>\n",
       "      <td>1</td>\n",
       "      <td>0</td>\n",
       "      <td>0</td>\n",
       "      <td>0</td>\n",
       "      <td>1</td>\n",
       "    </tr>\n",
       "    <tr>\n",
       "      <th>2</th>\n",
       "      <td>33</td>\n",
       "      <td>no</td>\n",
       "      <td>2.0</td>\n",
       "      <td>yes</td>\n",
       "      <td>yes</td>\n",
       "      <td>5.0</td>\n",
       "      <td>76.0</td>\n",
       "      <td>1.0</td>\n",
       "      <td>-1.0</td>\n",
       "      <td>0.0</td>\n",
       "      <td>no</td>\n",
       "      <td>0</td>\n",
       "      <td>0</td>\n",
       "      <td>1</td>\n",
       "      <td>0</td>\n",
       "      <td>0</td>\n",
       "      <td>0</td>\n",
       "      <td>0</td>\n",
       "      <td>0</td>\n",
       "      <td>0</td>\n",
       "      <td>0</td>\n",
       "      <td>0</td>\n",
       "      <td>0</td>\n",
       "      <td>0</td>\n",
       "      <td>1</td>\n",
       "      <td>0</td>\n",
       "      <td>0</td>\n",
       "      <td>1</td>\n",
       "      <td>0</td>\n",
       "      <td>0</td>\n",
       "      <td>0</td>\n",
       "      <td>0</td>\n",
       "      <td>1</td>\n",
       "      <td>1</td>\n",
       "      <td>0</td>\n",
       "      <td>0</td>\n",
       "      <td>0</td>\n",
       "      <td>1</td>\n",
       "    </tr>\n",
       "    <tr>\n",
       "      <th>3</th>\n",
       "      <td>47</td>\n",
       "      <td>no</td>\n",
       "      <td>1506.0</td>\n",
       "      <td>yes</td>\n",
       "      <td>no</td>\n",
       "      <td>5.0</td>\n",
       "      <td>92.0</td>\n",
       "      <td>1.0</td>\n",
       "      <td>-1.0</td>\n",
       "      <td>0.0</td>\n",
       "      <td>no</td>\n",
       "      <td>0</td>\n",
       "      <td>1</td>\n",
       "      <td>0</td>\n",
       "      <td>0</td>\n",
       "      <td>0</td>\n",
       "      <td>0</td>\n",
       "      <td>0</td>\n",
       "      <td>0</td>\n",
       "      <td>0</td>\n",
       "      <td>0</td>\n",
       "      <td>0</td>\n",
       "      <td>0</td>\n",
       "      <td>0</td>\n",
       "      <td>1</td>\n",
       "      <td>0</td>\n",
       "      <td>0</td>\n",
       "      <td>0</td>\n",
       "      <td>0</td>\n",
       "      <td>1</td>\n",
       "      <td>0</td>\n",
       "      <td>0</td>\n",
       "      <td>1</td>\n",
       "      <td>1</td>\n",
       "      <td>0</td>\n",
       "      <td>0</td>\n",
       "      <td>0</td>\n",
       "      <td>1</td>\n",
       "    </tr>\n",
       "    <tr>\n",
       "      <th>4</th>\n",
       "      <td>33</td>\n",
       "      <td>no</td>\n",
       "      <td>1.0</td>\n",
       "      <td>no</td>\n",
       "      <td>no</td>\n",
       "      <td>5.0</td>\n",
       "      <td>198.0</td>\n",
       "      <td>1.0</td>\n",
       "      <td>-1.0</td>\n",
       "      <td>0.0</td>\n",
       "      <td>no</td>\n",
       "      <td>0</td>\n",
       "      <td>0</td>\n",
       "      <td>0</td>\n",
       "      <td>0</td>\n",
       "      <td>0</td>\n",
       "      <td>0</td>\n",
       "      <td>0</td>\n",
       "      <td>0</td>\n",
       "      <td>0</td>\n",
       "      <td>0</td>\n",
       "      <td>0</td>\n",
       "      <td>1</td>\n",
       "      <td>0</td>\n",
       "      <td>0</td>\n",
       "      <td>1</td>\n",
       "      <td>0</td>\n",
       "      <td>0</td>\n",
       "      <td>0</td>\n",
       "      <td>1</td>\n",
       "      <td>0</td>\n",
       "      <td>0</td>\n",
       "      <td>1</td>\n",
       "      <td>1</td>\n",
       "      <td>0</td>\n",
       "      <td>0</td>\n",
       "      <td>0</td>\n",
       "      <td>1</td>\n",
       "    </tr>\n",
       "    <tr>\n",
       "      <th>...</th>\n",
       "      <td>...</td>\n",
       "      <td>...</td>\n",
       "      <td>...</td>\n",
       "      <td>...</td>\n",
       "      <td>...</td>\n",
       "      <td>...</td>\n",
       "      <td>...</td>\n",
       "      <td>...</td>\n",
       "      <td>...</td>\n",
       "      <td>...</td>\n",
       "      <td>...</td>\n",
       "      <td>...</td>\n",
       "      <td>...</td>\n",
       "      <td>...</td>\n",
       "      <td>...</td>\n",
       "      <td>...</td>\n",
       "      <td>...</td>\n",
       "      <td>...</td>\n",
       "      <td>...</td>\n",
       "      <td>...</td>\n",
       "      <td>...</td>\n",
       "      <td>...</td>\n",
       "      <td>...</td>\n",
       "      <td>...</td>\n",
       "      <td>...</td>\n",
       "      <td>...</td>\n",
       "      <td>...</td>\n",
       "      <td>...</td>\n",
       "      <td>...</td>\n",
       "      <td>...</td>\n",
       "      <td>...</td>\n",
       "      <td>...</td>\n",
       "      <td>...</td>\n",
       "      <td>...</td>\n",
       "      <td>...</td>\n",
       "      <td>...</td>\n",
       "      <td>...</td>\n",
       "      <td>...</td>\n",
       "    </tr>\n",
       "    <tr>\n",
       "      <th>21533</th>\n",
       "      <td>38</td>\n",
       "      <td>no</td>\n",
       "      <td>103.0</td>\n",
       "      <td>no</td>\n",
       "      <td>no</td>\n",
       "      <td>19.0</td>\n",
       "      <td>490.0</td>\n",
       "      <td>4.0</td>\n",
       "      <td>-1.0</td>\n",
       "      <td>0.0</td>\n",
       "      <td>no</td>\n",
       "      <td>0</td>\n",
       "      <td>0</td>\n",
       "      <td>0</td>\n",
       "      <td>0</td>\n",
       "      <td>0</td>\n",
       "      <td>0</td>\n",
       "      <td>0</td>\n",
       "      <td>0</td>\n",
       "      <td>0</td>\n",
       "      <td>1</td>\n",
       "      <td>0</td>\n",
       "      <td>0</td>\n",
       "      <td>0</td>\n",
       "      <td>0</td>\n",
       "      <td>1</td>\n",
       "      <td>0</td>\n",
       "      <td>0</td>\n",
       "      <td>1</td>\n",
       "      <td>0</td>\n",
       "      <td>1</td>\n",
       "      <td>0</td>\n",
       "      <td>0</td>\n",
       "      <td>1</td>\n",
       "      <td>1</td>\n",
       "      <td>0</td>\n",
       "      <td>0</td>\n",
       "      <td>0</td>\n",
       "    </tr>\n",
       "    <tr>\n",
       "      <th>21534</th>\n",
       "      <td>59</td>\n",
       "      <td>no</td>\n",
       "      <td>613.0</td>\n",
       "      <td>no</td>\n",
       "      <td>no</td>\n",
       "      <td>19.0</td>\n",
       "      <td>75.0</td>\n",
       "      <td>2.0</td>\n",
       "      <td>-1.0</td>\n",
       "      <td>0.0</td>\n",
       "      <td>no</td>\n",
       "      <td>0</td>\n",
       "      <td>0</td>\n",
       "      <td>0</td>\n",
       "      <td>0</td>\n",
       "      <td>0</td>\n",
       "      <td>1</td>\n",
       "      <td>0</td>\n",
       "      <td>0</td>\n",
       "      <td>0</td>\n",
       "      <td>0</td>\n",
       "      <td>0</td>\n",
       "      <td>0</td>\n",
       "      <td>0</td>\n",
       "      <td>1</td>\n",
       "      <td>0</td>\n",
       "      <td>0</td>\n",
       "      <td>0</td>\n",
       "      <td>0</td>\n",
       "      <td>1</td>\n",
       "      <td>1</td>\n",
       "      <td>0</td>\n",
       "      <td>0</td>\n",
       "      <td>1</td>\n",
       "      <td>1</td>\n",
       "      <td>0</td>\n",
       "      <td>0</td>\n",
       "      <td>0</td>\n",
       "    </tr>\n",
       "    <tr>\n",
       "      <th>21535</th>\n",
       "      <td>48</td>\n",
       "      <td>no</td>\n",
       "      <td>-95.0</td>\n",
       "      <td>no</td>\n",
       "      <td>no</td>\n",
       "      <td>19.0</td>\n",
       "      <td>134.0</td>\n",
       "      <td>9.0</td>\n",
       "      <td>-1.0</td>\n",
       "      <td>0.0</td>\n",
       "      <td>no</td>\n",
       "      <td>0</td>\n",
       "      <td>0</td>\n",
       "      <td>0</td>\n",
       "      <td>0</td>\n",
       "      <td>0</td>\n",
       "      <td>0</td>\n",
       "      <td>0</td>\n",
       "      <td>0</td>\n",
       "      <td>0</td>\n",
       "      <td>0</td>\n",
       "      <td>0</td>\n",
       "      <td>1</td>\n",
       "      <td>0</td>\n",
       "      <td>1</td>\n",
       "      <td>0</td>\n",
       "      <td>0</td>\n",
       "      <td>1</td>\n",
       "      <td>0</td>\n",
       "      <td>0</td>\n",
       "      <td>1</td>\n",
       "      <td>0</td>\n",
       "      <td>0</td>\n",
       "      <td>1</td>\n",
       "      <td>1</td>\n",
       "      <td>0</td>\n",
       "      <td>0</td>\n",
       "      <td>0</td>\n",
       "    </tr>\n",
       "    <tr>\n",
       "      <th>21536</th>\n",
       "      <td>49</td>\n",
       "      <td>no</td>\n",
       "      <td>0.0</td>\n",
       "      <td>no</td>\n",
       "      <td>no</td>\n",
       "      <td>19.0</td>\n",
       "      <td>141.0</td>\n",
       "      <td>2.0</td>\n",
       "      <td>-1.0</td>\n",
       "      <td>0.0</td>\n",
       "      <td>no</td>\n",
       "      <td>0</td>\n",
       "      <td>0</td>\n",
       "      <td>0</td>\n",
       "      <td>0</td>\n",
       "      <td>1</td>\n",
       "      <td>0</td>\n",
       "      <td>0</td>\n",
       "      <td>0</td>\n",
       "      <td>0</td>\n",
       "      <td>0</td>\n",
       "      <td>0</td>\n",
       "      <td>0</td>\n",
       "      <td>0</td>\n",
       "      <td>1</td>\n",
       "      <td>0</td>\n",
       "      <td>0</td>\n",
       "      <td>1</td>\n",
       "      <td>0</td>\n",
       "      <td>0</td>\n",
       "      <td>1</td>\n",
       "      <td>0</td>\n",
       "      <td>0</td>\n",
       "      <td>1</td>\n",
       "      <td>1</td>\n",
       "      <td>0</td>\n",
       "      <td>0</td>\n",
       "      <td>0</td>\n",
       "    </tr>\n",
       "    <tr>\n",
       "      <th>21537</th>\n",
       "      <td>49</td>\n",
       "      <td>no</td>\n",
       "      <td>-962.0</td>\n",
       "      <td>yes</td>\n",
       "      <td>no</td>\n",
       "      <td>19.0</td>\n",
       "      <td>295.0</td>\n",
       "      <td>2.0</td>\n",
       "      <td>-1.0</td>\n",
       "      <td>0.0</td>\n",
       "      <td>no</td>\n",
       "      <td>1</td>\n",
       "      <td>0</td>\n",
       "      <td>0</td>\n",
       "      <td>0</td>\n",
       "      <td>0</td>\n",
       "      <td>0</td>\n",
       "      <td>0</td>\n",
       "      <td>0</td>\n",
       "      <td>0</td>\n",
       "      <td>0</td>\n",
       "      <td>0</td>\n",
       "      <td>0</td>\n",
       "      <td>0</td>\n",
       "      <td>1</td>\n",
       "      <td>0</td>\n",
       "      <td>0</td>\n",
       "      <td>0</td>\n",
       "      <td>1</td>\n",
       "      <td>0</td>\n",
       "      <td>1</td>\n",
       "      <td>0</td>\n",
       "      <td>0</td>\n",
       "      <td>1</td>\n",
       "      <td>1</td>\n",
       "      <td>0</td>\n",
       "      <td>0</td>\n",
       "      <td>0</td>\n",
       "    </tr>\n",
       "  </tbody>\n",
       "</table>\n",
       "<p>21538 rows × 38 columns</p>\n",
       "</div>"
      ],
      "text/plain": [
       "       age default  balance housing loan   day  duration  campaign  pdays  \\\n",
       "0       58      no   2143.0     yes   no   5.0     261.0       1.0   -1.0   \n",
       "1       44      no     29.0     yes   no   5.0     151.0       1.0   -1.0   \n",
       "2       33      no      2.0     yes  yes   5.0      76.0       1.0   -1.0   \n",
       "3       47      no   1506.0     yes   no   5.0      92.0       1.0   -1.0   \n",
       "4       33      no      1.0      no   no   5.0     198.0       1.0   -1.0   \n",
       "...    ...     ...      ...     ...  ...   ...       ...       ...    ...   \n",
       "21533   38      no    103.0      no   no  19.0     490.0       4.0   -1.0   \n",
       "21534   59      no    613.0      no   no  19.0      75.0       2.0   -1.0   \n",
       "21535   48      no    -95.0      no   no  19.0     134.0       9.0   -1.0   \n",
       "21536   49      no      0.0      no   no  19.0     141.0       2.0   -1.0   \n",
       "21537   49      no   -962.0     yes   no  19.0     295.0       2.0   -1.0   \n",
       "\n",
       "       previous   y  job_admin.  job_blue-collar  job_entrepreneur  \\\n",
       "0           0.0  no           0                0                 0   \n",
       "1           0.0  no           0                0                 0   \n",
       "2           0.0  no           0                0                 1   \n",
       "3           0.0  no           0                1                 0   \n",
       "4           0.0  no           0                0                 0   \n",
       "...         ...  ..         ...              ...               ...   \n",
       "21533       0.0  no           0                0                 0   \n",
       "21534       0.0  no           0                0                 0   \n",
       "21535       0.0  no           0                0                 0   \n",
       "21536       0.0  no           0                0                 0   \n",
       "21537       0.0  no           1                0                 0   \n",
       "\n",
       "       job_housemaid  job_management  job_retired  job_self-employed  \\\n",
       "0                  0               1            0                  0   \n",
       "1                  0               0            0                  0   \n",
       "2                  0               0            0                  0   \n",
       "3                  0               0            0                  0   \n",
       "4                  0               0            0                  0   \n",
       "...              ...             ...          ...                ...   \n",
       "21533              0               0            0                  0   \n",
       "21534              0               0            1                  0   \n",
       "21535              0               0            0                  0   \n",
       "21536              0               1            0                  0   \n",
       "21537              0               0            0                  0   \n",
       "\n",
       "       job_services  job_student  job_technician  job_unemployed  job_unknown  \\\n",
       "0                 0            0               0               0            0   \n",
       "1                 0            0               1               0            0   \n",
       "2                 0            0               0               0            0   \n",
       "3                 0            0               0               0            0   \n",
       "4                 0            0               0               0            1   \n",
       "...             ...          ...             ...             ...          ...   \n",
       "21533             0            0               1               0            0   \n",
       "21534             0            0               0               0            0   \n",
       "21535             0            0               0               0            1   \n",
       "21536             0            0               0               0            0   \n",
       "21537             0            0               0               0            0   \n",
       "\n",
       "       marital_divorced  marital_married  marital_single  education_primary  \\\n",
       "0                     0                1               0                  0   \n",
       "1                     0                0               1                  0   \n",
       "2                     0                1               0                  0   \n",
       "3                     0                1               0                  0   \n",
       "4                     0                0               1                  0   \n",
       "...                 ...              ...             ...                ...   \n",
       "21533                 0                0               1                  0   \n",
       "21534                 0                1               0                  0   \n",
       "21535                 0                1               0                  0   \n",
       "21536                 0                1               0                  0   \n",
       "21537                 0                1               0                  0   \n",
       "\n",
       "       education_secondary  education_tertiary  education_unknown  \\\n",
       "0                        0                   1                  0   \n",
       "1                        1                   0                  0   \n",
       "2                        1                   0                  0   \n",
       "3                        0                   0                  1   \n",
       "4                        0                   0                  1   \n",
       "...                    ...                 ...                ...   \n",
       "21533                    0                   1                  0   \n",
       "21534                    0                   0                  1   \n",
       "21535                    1                   0                  0   \n",
       "21536                    1                   0                  0   \n",
       "21537                    0                   1                  0   \n",
       "\n",
       "       contact_cellular  contact_telephone  contact_unknown  poutcome_unknown  \\\n",
       "0                     0                  0                1                 1   \n",
       "1                     0                  0                1                 1   \n",
       "2                     0                  0                1                 1   \n",
       "3                     0                  0                1                 1   \n",
       "4                     0                  0                1                 1   \n",
       "...                 ...                ...              ...               ...   \n",
       "21533                 1                  0                0                 1   \n",
       "21534                 1                  0                0                 1   \n",
       "21535                 1                  0                0                 1   \n",
       "21536                 1                  0                0                 1   \n",
       "21537                 1                  0                0                 1   \n",
       "\n",
       "       month_aug  month_jul  month_jun  month_may  \n",
       "0              0          0          0          1  \n",
       "1              0          0          0          1  \n",
       "2              0          0          0          1  \n",
       "3              0          0          0          1  \n",
       "4              0          0          0          1  \n",
       "...          ...        ...        ...        ...  \n",
       "21533          1          0          0          0  \n",
       "21534          1          0          0          0  \n",
       "21535          1          0          0          0  \n",
       "21536          1          0          0          0  \n",
       "21537          1          0          0          0  \n",
       "\n",
       "[21538 rows x 38 columns]"
      ]
     },
     "execution_count": 16,
     "metadata": {},
     "output_type": "execute_result"
    }
   ],
   "source": [
    "bank1=pd.get_dummies(bank,columns=['job','marital','education',\n",
    "                                   'contact','poutcome','month'])\n",
    "bank1"
   ]
  },
  {
   "cell_type": "code",
   "execution_count": 17,
   "id": "fd00b131",
   "metadata": {
    "ExecuteTime": {
     "end_time": "2023-03-10T15:14:06.941727Z",
     "start_time": "2023-03-10T15:14:06.897381Z"
    }
   },
   "outputs": [
    {
     "name": "stdout",
     "output_type": "stream",
     "text": [
      "<class 'pandas.core.frame.DataFrame'>\n",
      "Int64Index: 21538 entries, 0 to 21537\n",
      "Data columns (total 38 columns):\n",
      " #   Column               Non-Null Count  Dtype  \n",
      "---  ------               --------------  -----  \n",
      " 0   age                  21538 non-null  int64  \n",
      " 1   default              21538 non-null  object \n",
      " 2   balance              21538 non-null  float64\n",
      " 3   housing              21538 non-null  object \n",
      " 4   loan                 21538 non-null  object \n",
      " 5   day                  21538 non-null  float64\n",
      " 6   duration             21538 non-null  float64\n",
      " 7   campaign             21538 non-null  float64\n",
      " 8   pdays                21538 non-null  float64\n",
      " 9   previous             21538 non-null  float64\n",
      " 10  y                    21538 non-null  object \n",
      " 11  job_admin.           21538 non-null  uint8  \n",
      " 12  job_blue-collar      21538 non-null  uint8  \n",
      " 13  job_entrepreneur     21538 non-null  uint8  \n",
      " 14  job_housemaid        21538 non-null  uint8  \n",
      " 15  job_management       21538 non-null  uint8  \n",
      " 16  job_retired          21538 non-null  uint8  \n",
      " 17  job_self-employed    21538 non-null  uint8  \n",
      " 18  job_services         21538 non-null  uint8  \n",
      " 19  job_student          21538 non-null  uint8  \n",
      " 20  job_technician       21538 non-null  uint8  \n",
      " 21  job_unemployed       21538 non-null  uint8  \n",
      " 22  job_unknown          21538 non-null  uint8  \n",
      " 23  marital_divorced     21538 non-null  uint8  \n",
      " 24  marital_married      21538 non-null  uint8  \n",
      " 25  marital_single       21538 non-null  uint8  \n",
      " 26  education_primary    21538 non-null  uint8  \n",
      " 27  education_secondary  21538 non-null  uint8  \n",
      " 28  education_tertiary   21538 non-null  uint8  \n",
      " 29  education_unknown    21538 non-null  uint8  \n",
      " 30  contact_cellular     21538 non-null  uint8  \n",
      " 31  contact_telephone    21538 non-null  uint8  \n",
      " 32  contact_unknown      21538 non-null  uint8  \n",
      " 33  poutcome_unknown     21538 non-null  uint8  \n",
      " 34  month_aug            21538 non-null  uint8  \n",
      " 35  month_jul            21538 non-null  uint8  \n",
      " 36  month_jun            21538 non-null  uint8  \n",
      " 37  month_may            21538 non-null  uint8  \n",
      "dtypes: float64(6), int64(1), object(4), uint8(27)\n",
      "memory usage: 2.5+ MB\n"
     ]
    }
   ],
   "source": [
    "pd.set_option(\"display.max.columns\",None)\n",
    "bank1\n",
    "bank1.info()"
   ]
  },
  {
   "cell_type": "code",
   "execution_count": 18,
   "id": "07d4cc94",
   "metadata": {
    "ExecuteTime": {
     "end_time": "2023-03-10T15:14:07.946680Z",
     "start_time": "2023-03-10T15:14:07.851459Z"
    }
   },
   "outputs": [
    {
     "name": "stdout",
     "output_type": "stream",
     "text": [
      "<class 'pandas.core.frame.DataFrame'>\n",
      "Int64Index: 21538 entries, 0 to 21537\n",
      "Data columns (total 38 columns):\n",
      " #   Column               Non-Null Count  Dtype  \n",
      "---  ------               --------------  -----  \n",
      " 0   age                  21538 non-null  int64  \n",
      " 1   default              21538 non-null  int32  \n",
      " 2   balance              21538 non-null  float64\n",
      " 3   housing              21538 non-null  int32  \n",
      " 4   loan                 21538 non-null  int32  \n",
      " 5   day                  21538 non-null  float64\n",
      " 6   duration             21538 non-null  float64\n",
      " 7   campaign             21538 non-null  float64\n",
      " 8   pdays                21538 non-null  float64\n",
      " 9   previous             21538 non-null  float64\n",
      " 10  y                    21538 non-null  int32  \n",
      " 11  job_admin.           21538 non-null  uint8  \n",
      " 12  job_blue-collar      21538 non-null  uint8  \n",
      " 13  job_entrepreneur     21538 non-null  uint8  \n",
      " 14  job_housemaid        21538 non-null  uint8  \n",
      " 15  job_management       21538 non-null  uint8  \n",
      " 16  job_retired          21538 non-null  uint8  \n",
      " 17  job_self-employed    21538 non-null  uint8  \n",
      " 18  job_services         21538 non-null  uint8  \n",
      " 19  job_student          21538 non-null  uint8  \n",
      " 20  job_technician       21538 non-null  uint8  \n",
      " 21  job_unemployed       21538 non-null  uint8  \n",
      " 22  job_unknown          21538 non-null  uint8  \n",
      " 23  marital_divorced     21538 non-null  uint8  \n",
      " 24  marital_married      21538 non-null  uint8  \n",
      " 25  marital_single       21538 non-null  uint8  \n",
      " 26  education_primary    21538 non-null  uint8  \n",
      " 27  education_secondary  21538 non-null  uint8  \n",
      " 28  education_tertiary   21538 non-null  uint8  \n",
      " 29  education_unknown    21538 non-null  uint8  \n",
      " 30  contact_cellular     21538 non-null  uint8  \n",
      " 31  contact_telephone    21538 non-null  uint8  \n",
      " 32  contact_unknown      21538 non-null  uint8  \n",
      " 33  poutcome_unknown     21538 non-null  uint8  \n",
      " 34  month_aug            21538 non-null  uint8  \n",
      " 35  month_jul            21538 non-null  uint8  \n",
      " 36  month_jun            21538 non-null  uint8  \n",
      " 37  month_may            21538 non-null  uint8  \n",
      "dtypes: float64(6), int32(4), int64(1), uint8(27)\n",
      "memory usage: 2.2 MB\n"
     ]
    }
   ],
   "source": [
    "bank1['default']=np.where(bank1['default'].str.contains(\"yes\"),1,0)\n",
    "bank1['housing']=np.where(bank1['housing'].str.contains(\"yes\"),1,0)\n",
    "bank1['loan']=np.where(bank1['loan'].str.contains(\"yes\"),1,0)\n",
    "bank1['y']=np.where(bank1['y'].str.contains(\"yes\"),1,0)\n",
    "bank1\n",
    "bank1.info()"
   ]
  },
  {
   "cell_type": "code",
   "execution_count": 19,
   "id": "926d3fc3",
   "metadata": {
    "ExecuteTime": {
     "end_time": "2023-03-10T15:14:08.738641Z",
     "start_time": "2023-03-10T15:14:08.722128Z"
    }
   },
   "outputs": [],
   "source": [
    "x=pd.concat([bank1.iloc[:,0:10],bank1.iloc[:,11:]],axis=1)\n",
    "y=bank1.iloc[:,10]"
   ]
  },
  {
   "cell_type": "code",
   "execution_count": 20,
   "id": "ace9224c",
   "metadata": {
    "ExecuteTime": {
     "end_time": "2023-03-10T15:14:10.654628Z",
     "start_time": "2023-03-10T15:14:10.116034Z"
    }
   },
   "outputs": [
    {
     "name": "stderr",
     "output_type": "stream",
     "text": [
      "C:\\ProgramData\\Anaconda3\\lib\\site-packages\\sklearn\\linear_model\\_logistic.py:814: ConvergenceWarning: lbfgs failed to converge (status=1):\n",
      "STOP: TOTAL NO. of ITERATIONS REACHED LIMIT.\n",
      "\n",
      "Increase the number of iterations (max_iter) or scale the data as shown in:\n",
      "    https://scikit-learn.org/stable/modules/preprocessing.html\n",
      "Please also refer to the documentation for alternative solver options:\n",
      "    https://scikit-learn.org/stable/modules/linear_model.html#logistic-regression\n",
      "  n_iter_i = _check_optimize_result(\n"
     ]
    },
    {
     "data": {
      "text/plain": [
       "LogisticRegression()"
      ]
     },
     "execution_count": 20,
     "metadata": {},
     "output_type": "execute_result"
    }
   ],
   "source": [
    "classifier=LogisticRegression()\n",
    "classifier.fit(x,y)"
   ]
  },
  {
   "cell_type": "code",
   "execution_count": 21,
   "id": "4b9e36a6",
   "metadata": {
    "ExecuteTime": {
     "end_time": "2023-03-10T15:14:11.749339Z",
     "start_time": "2023-03-10T15:14:11.725102Z"
    }
   },
   "outputs": [
    {
     "data": {
      "text/plain": [
       "array([0, 0, 0, ..., 0, 0, 0])"
      ]
     },
     "execution_count": 21,
     "metadata": {},
     "output_type": "execute_result"
    }
   ],
   "source": [
    "y_pred=classifier.predict(x)\n",
    "y_pred"
   ]
  },
  {
   "cell_type": "code",
   "execution_count": 22,
   "id": "435c1a60",
   "metadata": {
    "ExecuteTime": {
     "end_time": "2023-03-10T15:14:12.876838Z",
     "start_time": "2023-03-10T15:14:12.853471Z"
    }
   },
   "outputs": [
    {
     "data": {
      "text/html": [
       "<div>\n",
       "<style scoped>\n",
       "    .dataframe tbody tr th:only-of-type {\n",
       "        vertical-align: middle;\n",
       "    }\n",
       "\n",
       "    .dataframe tbody tr th {\n",
       "        vertical-align: top;\n",
       "    }\n",
       "\n",
       "    .dataframe thead th {\n",
       "        text-align: right;\n",
       "    }\n",
       "</style>\n",
       "<table border=\"1\" class=\"dataframe\">\n",
       "  <thead>\n",
       "    <tr style=\"text-align: right;\">\n",
       "      <th></th>\n",
       "      <th>actual_y</th>\n",
       "      <th>y_pred_prob</th>\n",
       "    </tr>\n",
       "  </thead>\n",
       "  <tbody>\n",
       "    <tr>\n",
       "      <th>0</th>\n",
       "      <td>0</td>\n",
       "      <td>0</td>\n",
       "    </tr>\n",
       "    <tr>\n",
       "      <th>1</th>\n",
       "      <td>0</td>\n",
       "      <td>0</td>\n",
       "    </tr>\n",
       "    <tr>\n",
       "      <th>2</th>\n",
       "      <td>0</td>\n",
       "      <td>0</td>\n",
       "    </tr>\n",
       "    <tr>\n",
       "      <th>3</th>\n",
       "      <td>0</td>\n",
       "      <td>0</td>\n",
       "    </tr>\n",
       "    <tr>\n",
       "      <th>4</th>\n",
       "      <td>0</td>\n",
       "      <td>0</td>\n",
       "    </tr>\n",
       "    <tr>\n",
       "      <th>...</th>\n",
       "      <td>...</td>\n",
       "      <td>...</td>\n",
       "    </tr>\n",
       "    <tr>\n",
       "      <th>21533</th>\n",
       "      <td>0</td>\n",
       "      <td>0</td>\n",
       "    </tr>\n",
       "    <tr>\n",
       "      <th>21534</th>\n",
       "      <td>0</td>\n",
       "      <td>0</td>\n",
       "    </tr>\n",
       "    <tr>\n",
       "      <th>21535</th>\n",
       "      <td>0</td>\n",
       "      <td>0</td>\n",
       "    </tr>\n",
       "    <tr>\n",
       "      <th>21536</th>\n",
       "      <td>0</td>\n",
       "      <td>0</td>\n",
       "    </tr>\n",
       "    <tr>\n",
       "      <th>21537</th>\n",
       "      <td>0</td>\n",
       "      <td>0</td>\n",
       "    </tr>\n",
       "  </tbody>\n",
       "</table>\n",
       "<p>21538 rows × 2 columns</p>\n",
       "</div>"
      ],
      "text/plain": [
       "       actual_y  y_pred_prob\n",
       "0             0            0\n",
       "1             0            0\n",
       "2             0            0\n",
       "3             0            0\n",
       "4             0            0\n",
       "...         ...          ...\n",
       "21533         0            0\n",
       "21534         0            0\n",
       "21535         0            0\n",
       "21536         0            0\n",
       "21537         0            0\n",
       "\n",
       "[21538 rows x 2 columns]"
      ]
     },
     "execution_count": 22,
     "metadata": {},
     "output_type": "execute_result"
    }
   ],
   "source": [
    "y_pred_df=pd.DataFrame({'actual_y':y,'y_pred_prob':y_pred})\n",
    "y_pred_df"
   ]
  },
  {
   "cell_type": "code",
   "execution_count": 23,
   "id": "44ce1fde",
   "metadata": {
    "ExecuteTime": {
     "end_time": "2023-03-10T15:14:13.644503Z",
     "start_time": "2023-03-10T15:14:13.620218Z"
    }
   },
   "outputs": [
    {
     "data": {
      "text/plain": [
       "array([[20275,   219],\n",
       "       [  703,   341]], dtype=int64)"
      ]
     },
     "execution_count": 23,
     "metadata": {},
     "output_type": "execute_result"
    }
   ],
   "source": [
    "confusion_matrix=confusion_matrix(y,y_pred)\n",
    "confusion_matrix"
   ]
  },
  {
   "cell_type": "code",
   "execution_count": 24,
   "id": "a14a7989",
   "metadata": {
    "ExecuteTime": {
     "end_time": "2023-03-10T15:14:14.334465Z",
     "start_time": "2023-03-10T15:14:14.312686Z"
    }
   },
   "outputs": [
    {
     "data": {
      "text/plain": [
       "0.1120644370513045"
      ]
     },
     "execution_count": 24,
     "metadata": {},
     "output_type": "execute_result"
    }
   ],
   "source": [
    "#model accuracy by (a+d)/(a+d+b+c)\n",
    "(3900+2500)/(3900+5500+45210+2500)"
   ]
  },
  {
   "cell_type": "code",
   "execution_count": 25,
   "id": "eee83028",
   "metadata": {
    "ExecuteTime": {
     "end_time": "2023-03-10T15:14:15.309556Z",
     "start_time": "2023-03-10T15:14:15.285859Z"
    }
   },
   "outputs": [
    {
     "data": {
      "text/plain": [
       "array([0.00274306, 0.00367751, 0.00457058, ..., 0.00767531, 0.01137711,\n",
       "       0.01916493])"
      ]
     },
     "execution_count": 25,
     "metadata": {},
     "output_type": "execute_result"
    }
   ],
   "source": [
    "classifier.predict_proba(x)[:,1]"
   ]
  },
  {
   "cell_type": "code",
   "execution_count": 26,
   "id": "271022c7",
   "metadata": {
    "ExecuteTime": {
     "end_time": "2023-03-10T15:14:15.908064Z",
     "start_time": "2023-03-10T15:14:15.887164Z"
    }
   },
   "outputs": [
    {
     "data": {
      "text/plain": [
       "array([[-6.41779237e-02,  1.96430094e-02, -1.61039007e-05,\n",
       "        -4.72071498e-01, -1.92067339e-01,  1.89711380e-03,\n",
       "         5.48211266e-03, -7.89800384e-02,  4.74370510e-01,\n",
       "         0.00000000e+00, -6.02456166e-02, -1.50623440e-01,\n",
       "         1.38196339e-02, -2.91492978e-02, -1.33940246e-01,\n",
       "         9.08352849e-02, -3.29247750e-02, -1.17787407e-01,\n",
       "        -1.76512154e-02, -5.27693705e-02,  2.18112352e-02,\n",
       "        -5.74529641e-03,  2.11250885e-01, -3.18538382e-01,\n",
       "        -3.67083014e-01,  3.78552053e-04, -2.57535858e-01,\n",
       "        -1.89509116e-01, -2.77040888e-02,  3.62272742e-02,\n",
       "         1.60282729e-02, -5.26626057e-01, -4.74370510e-01,\n",
       "         1.26529978e-01, -1.09445412e-01, -5.54953033e-02,\n",
       "        -4.35959773e-01]])"
      ]
     },
     "execution_count": 26,
     "metadata": {},
     "output_type": "execute_result"
    }
   ],
   "source": [
    "classifier.coef_"
   ]
  },
  {
   "cell_type": "code",
   "execution_count": 27,
   "id": "939a696d",
   "metadata": {
    "ExecuteTime": {
     "end_time": "2023-03-10T15:14:16.634740Z",
     "start_time": "2023-03-10T15:14:16.604655Z"
    }
   },
   "outputs": [
    {
     "data": {
      "text/html": [
       "<div>\n",
       "<style scoped>\n",
       "    .dataframe tbody tr th:only-of-type {\n",
       "        vertical-align: middle;\n",
       "    }\n",
       "\n",
       "    .dataframe tbody tr th {\n",
       "        vertical-align: top;\n",
       "    }\n",
       "\n",
       "    .dataframe thead th {\n",
       "        text-align: right;\n",
       "    }\n",
       "</style>\n",
       "<table border=\"1\" class=\"dataframe\">\n",
       "  <thead>\n",
       "    <tr style=\"text-align: right;\">\n",
       "      <th>y</th>\n",
       "      <th>0</th>\n",
       "      <th>1</th>\n",
       "    </tr>\n",
       "    <tr>\n",
       "      <th>row_0</th>\n",
       "      <th></th>\n",
       "      <th></th>\n",
       "    </tr>\n",
       "  </thead>\n",
       "  <tbody>\n",
       "    <tr>\n",
       "      <th>0</th>\n",
       "      <td>20275</td>\n",
       "      <td>703</td>\n",
       "    </tr>\n",
       "    <tr>\n",
       "      <th>1</th>\n",
       "      <td>219</td>\n",
       "      <td>341</td>\n",
       "    </tr>\n",
       "  </tbody>\n",
       "</table>\n",
       "</div>"
      ],
      "text/plain": [
       "y          0    1\n",
       "row_0            \n",
       "0      20275  703\n",
       "1        219  341"
      ]
     },
     "execution_count": 27,
     "metadata": {},
     "output_type": "execute_result"
    }
   ],
   "source": [
    "pd.crosstab(y_pred,y)"
   ]
  },
  {
   "cell_type": "code",
   "execution_count": 28,
   "id": "4c5d7216",
   "metadata": {
    "ExecuteTime": {
     "end_time": "2023-03-10T15:14:17.083981Z",
     "start_time": "2023-03-10T15:14:17.062702Z"
    }
   },
   "outputs": [
    {
     "data": {
      "text/plain": [
       "20616"
      ]
     },
     "execution_count": 28,
     "metadata": {},
     "output_type": "execute_result"
    }
   ],
   "source": [
    "accuracy=sum(y==y_pred)\n",
    "accuracy"
   ]
  },
  {
   "cell_type": "code",
   "execution_count": 29,
   "id": "32746c87",
   "metadata": {
    "ExecuteTime": {
     "end_time": "2023-03-10T15:14:17.413398Z",
     "start_time": "2023-03-10T15:14:17.401952Z"
    }
   },
   "outputs": [],
   "source": [
    "from sklearn.metrics import roc_auc_score\n",
    "from sklearn.metrics import roc_curve"
   ]
  },
  {
   "cell_type": "code",
   "execution_count": 30,
   "id": "3b60ad14",
   "metadata": {
    "ExecuteTime": {
     "end_time": "2023-03-10T15:14:17.742630Z",
     "start_time": "2023-03-10T15:14:17.717362Z"
    }
   },
   "outputs": [
    {
     "data": {
      "text/plain": [
       "0.6579711490177295"
      ]
     },
     "execution_count": 30,
     "metadata": {},
     "output_type": "execute_result"
    }
   ],
   "source": [
    "Logit_roc_score=roc_auc_score(y,classifier.predict(x))\n",
    "Logit_roc_score"
   ]
  },
  {
   "cell_type": "code",
   "execution_count": 31,
   "id": "f11e8b87",
   "metadata": {
    "ExecuteTime": {
     "end_time": "2023-03-10T15:14:18.220399Z",
     "start_time": "2023-03-10T15:14:18.037319Z"
    }
   },
   "outputs": [
    {
     "data": {
      "image/png": "[encoded data removed]",
      "text/plain": [
       "<Figure size 640x480 with 1 Axes>"
      ]
     },
     "metadata": {},
     "output_type": "display_data"
    }
   ],
   "source": [
    "fpr,tpr,thresholds=roc_curve(y,classifier.predict_proba(x)[:,1])\n",
    "plt.plot(fpr,tpr,color='blue')\n",
    "acu=roc_auc_score(y,y_pred)\n",
    "\n",
    "plt.plot(fpr,tpr,color='blue',label='logit model(area=%0.2f)'%Logit_roc_score)\n",
    "plt.plot([0,1],[0,1],'k--')\n",
    "plt.xlabel(\"fpr\")\n",
    "plt.ylabel(\"tpr\")\n",
    "plt.show()"
   ]
  },
  {
   "cell_type": "code",
   "execution_count": null,
   "id": "99adad9b",
   "metadata": {},
   "outputs": [],
   "source": []
  },
  {
   "cell_type": "code",
   "execution_count": null,
   "id": "9ec4bb3b",
   "metadata": {},
   "outputs": [],
   "source": []
  }
 ],
 "metadata": {
  "kernelspec": {
   "display_name": "Python 3 (ipykernel)",
   "language": "python",
   "name": "python3"
  },
  "language_info": {
   "codemirror_mode": {
    "name": "ipython",
    "version": 3
   },
   "file_extension": ".py",
   "mimetype": "text/x-python",
   "name": "python",
   "nbconvert_exporter": "python",
   "pygments_lexer": "ipython3",
   "version": "3.9.13"
  }
 },
 "nbformat": 4,
 "nbformat_minor": 5
}
