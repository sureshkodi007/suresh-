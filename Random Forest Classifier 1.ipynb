{
 "cells": [
  {
   "cell_type": "code",
   "execution_count": 1,
   "id": "039c9474",
   "metadata": {
    "ExecuteTime": {
     "end_time": "2023-03-19T06:15:32.405234Z",
     "start_time": "2023-03-19T06:15:27.620076Z"
    }
   },
   "outputs": [],
   "source": [
    "import pandas as pd \n",
    "import numpy as np \n",
    "import matplotlib.pyplot as plt \n",
    "%matplotlib inline\n",
    "import seaborn as sns\n",
    "from sklearn.model_selection import train_test_split\n",
    "from sklearn.ensemble import RandomForestClassifier\n",
    "from sklearn.metrics import confusion_matrix\n",
    "from sklearn.metrics import accuracy_score\n",
    "from sklearn.model_selection import cross_val_score"
   ]
  },
  {
   "cell_type": "code",
   "execution_count": 2,
   "id": "6f67495f",
   "metadata": {
    "ExecuteTime": {
     "end_time": "2023-03-19T06:15:32.452475Z",
     "start_time": "2023-03-19T06:15:32.410234Z"
    }
   },
   "outputs": [
    {
     "data": {
      "text/html": [
       "<div>\n",
       "<style scoped>\n",
       "    .dataframe tbody tr th:only-of-type {\n",
       "        vertical-align: middle;\n",
       "    }\n",
       "\n",
       "    .dataframe tbody tr th {\n",
       "        vertical-align: top;\n",
       "    }\n",
       "\n",
       "    .dataframe thead th {\n",
       "        text-align: right;\n",
       "    }\n",
       "</style>\n",
       "<table border=\"1\" class=\"dataframe\">\n",
       "  <thead>\n",
       "    <tr style=\"text-align: right;\">\n",
       "      <th></th>\n",
       "      <th>Undergrad</th>\n",
       "      <th>Marital.Status</th>\n",
       "      <th>Taxable.Income</th>\n",
       "      <th>City.Population</th>\n",
       "      <th>Work.Experience</th>\n",
       "      <th>Urban</th>\n",
       "    </tr>\n",
       "  </thead>\n",
       "  <tbody>\n",
       "    <tr>\n",
       "      <th>0</th>\n",
       "      <td>NO</td>\n",
       "      <td>Single</td>\n",
       "      <td>68833</td>\n",
       "      <td>50047</td>\n",
       "      <td>10</td>\n",
       "      <td>YES</td>\n",
       "    </tr>\n",
       "    <tr>\n",
       "      <th>1</th>\n",
       "      <td>YES</td>\n",
       "      <td>Divorced</td>\n",
       "      <td>33700</td>\n",
       "      <td>134075</td>\n",
       "      <td>18</td>\n",
       "      <td>YES</td>\n",
       "    </tr>\n",
       "    <tr>\n",
       "      <th>2</th>\n",
       "      <td>NO</td>\n",
       "      <td>Married</td>\n",
       "      <td>36925</td>\n",
       "      <td>160205</td>\n",
       "      <td>30</td>\n",
       "      <td>YES</td>\n",
       "    </tr>\n",
       "    <tr>\n",
       "      <th>3</th>\n",
       "      <td>YES</td>\n",
       "      <td>Single</td>\n",
       "      <td>50190</td>\n",
       "      <td>193264</td>\n",
       "      <td>15</td>\n",
       "      <td>YES</td>\n",
       "    </tr>\n",
       "    <tr>\n",
       "      <th>4</th>\n",
       "      <td>NO</td>\n",
       "      <td>Married</td>\n",
       "      <td>81002</td>\n",
       "      <td>27533</td>\n",
       "      <td>28</td>\n",
       "      <td>NO</td>\n",
       "    </tr>\n",
       "    <tr>\n",
       "      <th>...</th>\n",
       "      <td>...</td>\n",
       "      <td>...</td>\n",
       "      <td>...</td>\n",
       "      <td>...</td>\n",
       "      <td>...</td>\n",
       "      <td>...</td>\n",
       "    </tr>\n",
       "    <tr>\n",
       "      <th>595</th>\n",
       "      <td>YES</td>\n",
       "      <td>Divorced</td>\n",
       "      <td>76340</td>\n",
       "      <td>39492</td>\n",
       "      <td>7</td>\n",
       "      <td>YES</td>\n",
       "    </tr>\n",
       "    <tr>\n",
       "      <th>596</th>\n",
       "      <td>YES</td>\n",
       "      <td>Divorced</td>\n",
       "      <td>69967</td>\n",
       "      <td>55369</td>\n",
       "      <td>2</td>\n",
       "      <td>YES</td>\n",
       "    </tr>\n",
       "    <tr>\n",
       "      <th>597</th>\n",
       "      <td>NO</td>\n",
       "      <td>Divorced</td>\n",
       "      <td>47334</td>\n",
       "      <td>154058</td>\n",
       "      <td>0</td>\n",
       "      <td>YES</td>\n",
       "    </tr>\n",
       "    <tr>\n",
       "      <th>598</th>\n",
       "      <td>YES</td>\n",
       "      <td>Married</td>\n",
       "      <td>98592</td>\n",
       "      <td>180083</td>\n",
       "      <td>17</td>\n",
       "      <td>NO</td>\n",
       "    </tr>\n",
       "    <tr>\n",
       "      <th>599</th>\n",
       "      <td>NO</td>\n",
       "      <td>Divorced</td>\n",
       "      <td>96519</td>\n",
       "      <td>158137</td>\n",
       "      <td>16</td>\n",
       "      <td>NO</td>\n",
       "    </tr>\n",
       "  </tbody>\n",
       "</table>\n",
       "<p>600 rows × 6 columns</p>\n",
       "</div>"
      ],
      "text/plain": [
       "    Undergrad Marital.Status  Taxable.Income  City.Population  \\\n",
       "0          NO         Single           68833            50047   \n",
       "1         YES       Divorced           33700           134075   \n",
       "2          NO        Married           36925           160205   \n",
       "3         YES         Single           50190           193264   \n",
       "4          NO        Married           81002            27533   \n",
       "..        ...            ...             ...              ...   \n",
       "595       YES       Divorced           76340            39492   \n",
       "596       YES       Divorced           69967            55369   \n",
       "597        NO       Divorced           47334           154058   \n",
       "598       YES        Married           98592           180083   \n",
       "599        NO       Divorced           96519           158137   \n",
       "\n",
       "     Work.Experience Urban  \n",
       "0                 10   YES  \n",
       "1                 18   YES  \n",
       "2                 30   YES  \n",
       "3                 15   YES  \n",
       "4                 28    NO  \n",
       "..               ...   ...  \n",
       "595                7   YES  \n",
       "596                2   YES  \n",
       "597                0   YES  \n",
       "598               17    NO  \n",
       "599               16    NO  \n",
       "\n",
       "[600 rows x 6 columns]"
      ]
     },
     "execution_count": 2,
     "metadata": {},
     "output_type": "execute_result"
    }
   ],
   "source": [
    "fraud=pd.read_csv(\"Fraud_check.csv\")\n",
    "fraud "
   ]
  },
  {
   "cell_type": "code",
   "execution_count": 3,
   "id": "e7861f12",
   "metadata": {
    "ExecuteTime": {
     "end_time": "2023-03-19T06:15:32.483741Z",
     "start_time": "2023-03-19T06:15:32.456811Z"
    }
   },
   "outputs": [
    {
     "data": {
      "text/html": [
       "<div>\n",
       "<style scoped>\n",
       "    .dataframe tbody tr th:only-of-type {\n",
       "        vertical-align: middle;\n",
       "    }\n",
       "\n",
       "    .dataframe tbody tr th {\n",
       "        vertical-align: top;\n",
       "    }\n",
       "\n",
       "    .dataframe thead th {\n",
       "        text-align: right;\n",
       "    }\n",
       "</style>\n",
       "<table border=\"1\" class=\"dataframe\">\n",
       "  <thead>\n",
       "    <tr style=\"text-align: right;\">\n",
       "      <th></th>\n",
       "      <th>Undergrad</th>\n",
       "      <th>Marital.Status</th>\n",
       "      <th>Taxable.Income</th>\n",
       "      <th>City.Population</th>\n",
       "      <th>Work.Experience</th>\n",
       "      <th>Urban</th>\n",
       "    </tr>\n",
       "  </thead>\n",
       "  <tbody>\n",
       "    <tr>\n",
       "      <th>0</th>\n",
       "      <td>NO</td>\n",
       "      <td>Single</td>\n",
       "      <td>68833</td>\n",
       "      <td>50047</td>\n",
       "      <td>10</td>\n",
       "      <td>YES</td>\n",
       "    </tr>\n",
       "    <tr>\n",
       "      <th>1</th>\n",
       "      <td>YES</td>\n",
       "      <td>Divorced</td>\n",
       "      <td>33700</td>\n",
       "      <td>134075</td>\n",
       "      <td>18</td>\n",
       "      <td>YES</td>\n",
       "    </tr>\n",
       "    <tr>\n",
       "      <th>2</th>\n",
       "      <td>NO</td>\n",
       "      <td>Married</td>\n",
       "      <td>36925</td>\n",
       "      <td>160205</td>\n",
       "      <td>30</td>\n",
       "      <td>YES</td>\n",
       "    </tr>\n",
       "    <tr>\n",
       "      <th>3</th>\n",
       "      <td>YES</td>\n",
       "      <td>Single</td>\n",
       "      <td>50190</td>\n",
       "      <td>193264</td>\n",
       "      <td>15</td>\n",
       "      <td>YES</td>\n",
       "    </tr>\n",
       "    <tr>\n",
       "      <th>4</th>\n",
       "      <td>NO</td>\n",
       "      <td>Married</td>\n",
       "      <td>81002</td>\n",
       "      <td>27533</td>\n",
       "      <td>28</td>\n",
       "      <td>NO</td>\n",
       "    </tr>\n",
       "  </tbody>\n",
       "</table>\n",
       "</div>"
      ],
      "text/plain": [
       "  Undergrad Marital.Status  Taxable.Income  City.Population  Work.Experience  \\\n",
       "0        NO         Single           68833            50047               10   \n",
       "1       YES       Divorced           33700           134075               18   \n",
       "2        NO        Married           36925           160205               30   \n",
       "3       YES         Single           50190           193264               15   \n",
       "4        NO        Married           81002            27533               28   \n",
       "\n",
       "  Urban  \n",
       "0   YES  \n",
       "1   YES  \n",
       "2   YES  \n",
       "3   YES  \n",
       "4    NO  "
      ]
     },
     "execution_count": 3,
     "metadata": {},
     "output_type": "execute_result"
    }
   ],
   "source": [
    "fraud.head()"
   ]
  },
  {
   "cell_type": "code",
   "execution_count": 4,
   "id": "4d6b93d8",
   "metadata": {
    "ExecuteTime": {
     "end_time": "2023-03-19T06:15:35.158116Z",
     "start_time": "2023-03-19T06:15:35.135928Z"
    }
   },
   "outputs": [
    {
     "data": {
      "text/html": [
       "<div>\n",
       "<style scoped>\n",
       "    .dataframe tbody tr th:only-of-type {\n",
       "        vertical-align: middle;\n",
       "    }\n",
       "\n",
       "    .dataframe tbody tr th {\n",
       "        vertical-align: top;\n",
       "    }\n",
       "\n",
       "    .dataframe thead th {\n",
       "        text-align: right;\n",
       "    }\n",
       "</style>\n",
       "<table border=\"1\" class=\"dataframe\">\n",
       "  <thead>\n",
       "    <tr style=\"text-align: right;\">\n",
       "      <th></th>\n",
       "      <th>Undergrad</th>\n",
       "      <th>Marital.Status</th>\n",
       "      <th>Taxable.Income</th>\n",
       "      <th>City.Population</th>\n",
       "      <th>Work.Experience</th>\n",
       "      <th>Urban</th>\n",
       "    </tr>\n",
       "  </thead>\n",
       "  <tbody>\n",
       "    <tr>\n",
       "      <th>595</th>\n",
       "      <td>YES</td>\n",
       "      <td>Divorced</td>\n",
       "      <td>76340</td>\n",
       "      <td>39492</td>\n",
       "      <td>7</td>\n",
       "      <td>YES</td>\n",
       "    </tr>\n",
       "    <tr>\n",
       "      <th>596</th>\n",
       "      <td>YES</td>\n",
       "      <td>Divorced</td>\n",
       "      <td>69967</td>\n",
       "      <td>55369</td>\n",
       "      <td>2</td>\n",
       "      <td>YES</td>\n",
       "    </tr>\n",
       "    <tr>\n",
       "      <th>597</th>\n",
       "      <td>NO</td>\n",
       "      <td>Divorced</td>\n",
       "      <td>47334</td>\n",
       "      <td>154058</td>\n",
       "      <td>0</td>\n",
       "      <td>YES</td>\n",
       "    </tr>\n",
       "    <tr>\n",
       "      <th>598</th>\n",
       "      <td>YES</td>\n",
       "      <td>Married</td>\n",
       "      <td>98592</td>\n",
       "      <td>180083</td>\n",
       "      <td>17</td>\n",
       "      <td>NO</td>\n",
       "    </tr>\n",
       "    <tr>\n",
       "      <th>599</th>\n",
       "      <td>NO</td>\n",
       "      <td>Divorced</td>\n",
       "      <td>96519</td>\n",
       "      <td>158137</td>\n",
       "      <td>16</td>\n",
       "      <td>NO</td>\n",
       "    </tr>\n",
       "  </tbody>\n",
       "</table>\n",
       "</div>"
      ],
      "text/plain": [
       "    Undergrad Marital.Status  Taxable.Income  City.Population  \\\n",
       "595       YES       Divorced           76340            39492   \n",
       "596       YES       Divorced           69967            55369   \n",
       "597        NO       Divorced           47334           154058   \n",
       "598       YES        Married           98592           180083   \n",
       "599        NO       Divorced           96519           158137   \n",
       "\n",
       "     Work.Experience Urban  \n",
       "595                7   YES  \n",
       "596                2   YES  \n",
       "597                0   YES  \n",
       "598               17    NO  \n",
       "599               16    NO  "
      ]
     },
     "execution_count": 4,
     "metadata": {},
     "output_type": "execute_result"
    }
   ],
   "source": [
    "fraud.tail()"
   ]
  },
  {
   "cell_type": "code",
   "execution_count": 5,
   "id": "d1761c97",
   "metadata": {
    "ExecuteTime": {
     "end_time": "2023-03-19T06:15:37.825310Z",
     "start_time": "2023-03-19T06:15:37.810243Z"
    }
   },
   "outputs": [
    {
     "data": {
      "text/plain": [
       "(600, 6)"
      ]
     },
     "execution_count": 5,
     "metadata": {},
     "output_type": "execute_result"
    }
   ],
   "source": [
    "fraud.shape"
   ]
  },
  {
   "cell_type": "code",
   "execution_count": 6,
   "id": "2d988ad1",
   "metadata": {
    "ExecuteTime": {
     "end_time": "2023-03-19T06:15:39.690930Z",
     "start_time": "2023-03-19T06:15:39.644638Z"
    }
   },
   "outputs": [
    {
     "name": "stdout",
     "output_type": "stream",
     "text": [
      "<class 'pandas.core.frame.DataFrame'>\n",
      "RangeIndex: 600 entries, 0 to 599\n",
      "Data columns (total 6 columns):\n",
      " #   Column           Non-Null Count  Dtype \n",
      "---  ------           --------------  ----- \n",
      " 0   Undergrad        600 non-null    object\n",
      " 1   Marital.Status   600 non-null    object\n",
      " 2   Taxable.Income   600 non-null    int64 \n",
      " 3   City.Population  600 non-null    int64 \n",
      " 4   Work.Experience  600 non-null    int64 \n",
      " 5   Urban            600 non-null    object\n",
      "dtypes: int64(3), object(3)\n",
      "memory usage: 28.2+ KB\n"
     ]
    }
   ],
   "source": [
    "fraud.info()"
   ]
  },
  {
   "cell_type": "code",
   "execution_count": 7,
   "id": "3cb91263",
   "metadata": {
    "ExecuteTime": {
     "end_time": "2023-03-19T06:15:41.636545Z",
     "start_time": "2023-03-19T06:15:41.626059Z"
    }
   },
   "outputs": [
    {
     "data": {
      "text/plain": [
       "Undergrad          0\n",
       "Marital.Status     0\n",
       "Taxable.Income     0\n",
       "City.Population    0\n",
       "Work.Experience    0\n",
       "Urban              0\n",
       "dtype: int64"
      ]
     },
     "execution_count": 7,
     "metadata": {},
     "output_type": "execute_result"
    }
   ],
   "source": [
    "fraud.isnull().sum()"
   ]
  },
  {
   "cell_type": "code",
   "execution_count": 8,
   "id": "f661cfc8",
   "metadata": {
    "ExecuteTime": {
     "end_time": "2023-03-19T06:15:45.959690Z",
     "start_time": "2023-03-19T06:15:43.606528Z"
    }
   },
   "outputs": [
    {
     "data": {
      "text/plain": [
       "<seaborn.axisgrid.PairGrid at 0x1a0d43c7940>"
      ]
     },
     "execution_count": 8,
     "metadata": {},
     "output_type": "execute_result"
    },
    {
     "data": {
      "image/png": "[encoded data removed]",
      "text/plain": [
       "<Figure size 619.486x500 with 6 Axes>"
      ]
     },
     "metadata": {},
     "output_type": "display_data"
    }
   ],
   "source": [
    "sns.pairplot(data=fraud, hue = 'Taxable.Income')"
   ]
  },
  {
   "cell_type": "code",
   "execution_count": 9,
   "id": "9258b7bd",
   "metadata": {
    "ExecuteTime": {
     "end_time": "2023-03-19T06:15:47.858779Z",
     "start_time": "2023-03-19T06:15:47.842178Z"
    }
   },
   "outputs": [],
   "source": [
    "fraud[\"income\"]=\"<=30000\"\n",
    "fraud.loc[fraud[\"Taxable.Income\"]>=30000,\"income\"]=\"Good\"\n",
    "fraud.loc[fraud[\"Taxable.Income\"]<=30000,\"income\"]=\"Risky\""
   ]
  },
  {
   "cell_type": "code",
   "execution_count": 10,
   "id": "abd658ea",
   "metadata": {
    "ExecuteTime": {
     "end_time": "2023-03-19T06:15:49.883361Z",
     "start_time": "2023-03-19T06:15:49.873359Z"
    }
   },
   "outputs": [],
   "source": [
    "fraud.drop([\"Taxable.Income\"],axis=1,inplace=True)\n",
    "fraud.rename(columns={\"Undergrad\":\"undergrad\",\"Marital.Status\":\"marital\",\"City.Population\":\"population\",\n",
    "                      \"Work.Experience\":\"experience\",\"Urban\":\"urban\"},inplace=True)"
   ]
  },
  {
   "cell_type": "code",
   "execution_count": 11,
   "id": "6664f7e7",
   "metadata": {
    "ExecuteTime": {
     "end_time": "2023-03-19T06:15:53.649129Z",
     "start_time": "2023-03-19T06:15:53.622433Z"
    }
   },
   "outputs": [],
   "source": [
    "# Preprocessing the model\n",
    "from sklearn import preprocessing\n",
    "le=preprocessing.LabelEncoder()\n",
    "for column_name in fraud.columns:\n",
    "    if fraud[column_name].dtype == object:\n",
    "        fraud[column_name] = le.fit_transform(fraud[column_name])\n",
    "    else:\n",
    "        pass"
   ]
  },
  {
   "cell_type": "code",
   "execution_count": 12,
   "id": "0354e4be",
   "metadata": {
    "ExecuteTime": {
     "end_time": "2023-03-19T06:16:00.695535Z",
     "start_time": "2023-03-19T06:16:00.675641Z"
    }
   },
   "outputs": [],
   "source": [
    "x = fraud.iloc[:,0:5]\n",
    "y = fraud.iloc[:,5]"
   ]
  },
  {
   "cell_type": "code",
   "execution_count": 136,
   "id": "7b35ba2e",
   "metadata": {
    "ExecuteTime": {
     "end_time": "2023-03-17T19:10:56.027732Z",
     "start_time": "2023-03-17T19:10:56.011513Z"
    }
   },
   "outputs": [
    {
     "data": {
      "text/plain": [
       "['undergrad', 'marital', 'population', 'experience', 'urban', 'income']"
      ]
     },
     "execution_count": 136,
     "metadata": {},
     "output_type": "execute_result"
    }
   ],
   "source": [
    "colnames = list(fraud.columns)\n",
    "colnames"
   ]
  },
  {
   "cell_type": "code",
   "execution_count": 137,
   "id": "5f13e219",
   "metadata": {
    "ExecuteTime": {
     "end_time": "2023-03-17T19:10:57.118356Z",
     "start_time": "2023-03-17T19:10:57.096449Z"
    }
   },
   "outputs": [
    {
     "data": {
      "text/plain": [
       "['undergrad', 'marital', 'population', 'experience', 'urban']"
      ]
     },
     "execution_count": 137,
     "metadata": {},
     "output_type": "execute_result"
    }
   ],
   "source": [
    "predictors = colnames[0:5]\n",
    "predictors"
   ]
  },
  {
   "cell_type": "code",
   "execution_count": 138,
   "id": "61300e7b",
   "metadata": {
    "ExecuteTime": {
     "end_time": "2023-03-17T19:10:59.476643Z",
     "start_time": "2023-03-17T19:10:59.450698Z"
    }
   },
   "outputs": [
    {
     "data": {
      "text/plain": [
       "'income'"
      ]
     },
     "execution_count": 138,
     "metadata": {},
     "output_type": "execute_result"
    }
   ],
   "source": [
    "target = colnames[5]\n",
    "target"
   ]
  },
  {
   "cell_type": "code",
   "execution_count": 139,
   "id": "36a63649",
   "metadata": {
    "ExecuteTime": {
     "end_time": "2023-03-17T19:11:00.468382Z",
     "start_time": "2023-03-17T19:11:00.449641Z"
    }
   },
   "outputs": [],
   "source": [
    "# Split the data into train and test \n",
    "from sklearn.model_selection import train_test_split\n",
    "x_train,x_test,y_train,y_test = train_test_split(x,y,test_size = 0.2,random_state=42)"
   ]
  },
  {
   "cell_type": "code",
   "execution_count": 140,
   "id": "c807c3fa",
   "metadata": {
    "ExecuteTime": {
     "end_time": "2023-03-17T19:11:01.504296Z",
     "start_time": "2023-03-17T19:11:01.474738Z"
    }
   },
   "outputs": [
    {
     "data": {
      "text/plain": [
       "KFold(n_splits=10, random_state=42, shuffle=True)"
      ]
     },
     "execution_count": 140,
     "metadata": {},
     "output_type": "execute_result"
    }
   ],
   "source": [
    "from sklearn.model_selection import KFold\n",
    "kfold = KFold(n_splits=10, random_state=42, shuffle = True)\n",
    "kfold"
   ]
  },
  {
   "cell_type": "code",
   "execution_count": 141,
   "id": "70f97b19",
   "metadata": {
    "ExecuteTime": {
     "end_time": "2023-03-17T19:11:03.793463Z",
     "start_time": "2023-03-17T19:11:03.568532Z"
    }
   },
   "outputs": [
    {
     "data": {
      "text/plain": [
       "RandomForestClassifier(max_features=3, random_state=42)"
      ]
     },
     "execution_count": 141,
     "metadata": {},
     "output_type": "execute_result"
    }
   ],
   "source": [
    "# Train a random forest classifier\n",
    "rfc = RandomForestClassifier(n_estimators=100, max_features=3, random_state=42)\n",
    "rfc.fit(x_train, y_train)"
   ]
  },
  {
   "cell_type": "code",
   "execution_count": 142,
   "id": "5cbd96f0",
   "metadata": {
    "ExecuteTime": {
     "end_time": "2023-03-17T19:11:05.622992Z",
     "start_time": "2023-03-17T19:11:05.585260Z"
    }
   },
   "outputs": [
    {
     "data": {
      "text/plain": [
       "[DecisionTreeClassifier(max_features=3, random_state=1608637542),\n",
       " DecisionTreeClassifier(max_features=3, random_state=1273642419),\n",
       " DecisionTreeClassifier(max_features=3, random_state=1935803228),\n",
       " DecisionTreeClassifier(max_features=3, random_state=787846414),\n",
       " DecisionTreeClassifier(max_features=3, random_state=996406378),\n",
       " DecisionTreeClassifier(max_features=3, random_state=1201263687),\n",
       " DecisionTreeClassifier(max_features=3, random_state=423734972),\n",
       " DecisionTreeClassifier(max_features=3, random_state=415968276),\n",
       " DecisionTreeClassifier(max_features=3, random_state=670094950),\n",
       " DecisionTreeClassifier(max_features=3, random_state=1914837113),\n",
       " DecisionTreeClassifier(max_features=3, random_state=669991378),\n",
       " DecisionTreeClassifier(max_features=3, random_state=429389014),\n",
       " DecisionTreeClassifier(max_features=3, random_state=249467210),\n",
       " DecisionTreeClassifier(max_features=3, random_state=1972458954),\n",
       " DecisionTreeClassifier(max_features=3, random_state=1572714583),\n",
       " DecisionTreeClassifier(max_features=3, random_state=1433267572),\n",
       " DecisionTreeClassifier(max_features=3, random_state=434285667),\n",
       " DecisionTreeClassifier(max_features=3, random_state=613608295),\n",
       " DecisionTreeClassifier(max_features=3, random_state=893664919),\n",
       " DecisionTreeClassifier(max_features=3, random_state=648061058),\n",
       " DecisionTreeClassifier(max_features=3, random_state=88409749),\n",
       " DecisionTreeClassifier(max_features=3, random_state=242285876),\n",
       " DecisionTreeClassifier(max_features=3, random_state=2018247425),\n",
       " DecisionTreeClassifier(max_features=3, random_state=953477463),\n",
       " DecisionTreeClassifier(max_features=3, random_state=1427830251),\n",
       " DecisionTreeClassifier(max_features=3, random_state=1883569565),\n",
       " DecisionTreeClassifier(max_features=3, random_state=911989541),\n",
       " DecisionTreeClassifier(max_features=3, random_state=3344769),\n",
       " DecisionTreeClassifier(max_features=3, random_state=780932287),\n",
       " DecisionTreeClassifier(max_features=3, random_state=2114032571),\n",
       " DecisionTreeClassifier(max_features=3, random_state=787716372),\n",
       " DecisionTreeClassifier(max_features=3, random_state=504579232),\n",
       " DecisionTreeClassifier(max_features=3, random_state=1306710475),\n",
       " DecisionTreeClassifier(max_features=3, random_state=479546681),\n",
       " DecisionTreeClassifier(max_features=3, random_state=106328085),\n",
       " DecisionTreeClassifier(max_features=3, random_state=30349564),\n",
       " DecisionTreeClassifier(max_features=3, random_state=1855189739),\n",
       " DecisionTreeClassifier(max_features=3, random_state=99052376),\n",
       " DecisionTreeClassifier(max_features=3, random_state=1250819632),\n",
       " DecisionTreeClassifier(max_features=3, random_state=106406362),\n",
       " DecisionTreeClassifier(max_features=3, random_state=480404538),\n",
       " DecisionTreeClassifier(max_features=3, random_state=1717389822),\n",
       " DecisionTreeClassifier(max_features=3, random_state=599121577),\n",
       " DecisionTreeClassifier(max_features=3, random_state=200427519),\n",
       " DecisionTreeClassifier(max_features=3, random_state=1254751707),\n",
       " DecisionTreeClassifier(max_features=3, random_state=2034764475),\n",
       " DecisionTreeClassifier(max_features=3, random_state=1573512143),\n",
       " DecisionTreeClassifier(max_features=3, random_state=999745294),\n",
       " DecisionTreeClassifier(max_features=3, random_state=1958805693),\n",
       " DecisionTreeClassifier(max_features=3, random_state=389151677),\n",
       " DecisionTreeClassifier(max_features=3, random_state=1224821422),\n",
       " DecisionTreeClassifier(max_features=3, random_state=508464061),\n",
       " DecisionTreeClassifier(max_features=3, random_state=857592370),\n",
       " DecisionTreeClassifier(max_features=3, random_state=1642661739),\n",
       " DecisionTreeClassifier(max_features=3, random_state=61136438),\n",
       " DecisionTreeClassifier(max_features=3, random_state=2075460851),\n",
       " DecisionTreeClassifier(max_features=3, random_state=396917567),\n",
       " DecisionTreeClassifier(max_features=3, random_state=2004731384),\n",
       " DecisionTreeClassifier(max_features=3, random_state=199502978),\n",
       " DecisionTreeClassifier(max_features=3, random_state=1545932260),\n",
       " DecisionTreeClassifier(max_features=3, random_state=461901618),\n",
       " DecisionTreeClassifier(max_features=3, random_state=774414982),\n",
       " DecisionTreeClassifier(max_features=3, random_state=732395540),\n",
       " DecisionTreeClassifier(max_features=3, random_state=1934879560),\n",
       " DecisionTreeClassifier(max_features=3, random_state=279394470),\n",
       " DecisionTreeClassifier(max_features=3, random_state=56972561),\n",
       " DecisionTreeClassifier(max_features=3, random_state=1927948675),\n",
       " DecisionTreeClassifier(max_features=3, random_state=1899242072),\n",
       " DecisionTreeClassifier(max_features=3, random_state=1999874363),\n",
       " DecisionTreeClassifier(max_features=3, random_state=271820813),\n",
       " DecisionTreeClassifier(max_features=3, random_state=1324556529),\n",
       " DecisionTreeClassifier(max_features=3, random_state=1655351289),\n",
       " DecisionTreeClassifier(max_features=3, random_state=1308306184),\n",
       " DecisionTreeClassifier(max_features=3, random_state=68574553),\n",
       " DecisionTreeClassifier(max_features=3, random_state=419498548),\n",
       " DecisionTreeClassifier(max_features=3, random_state=991681409),\n",
       " DecisionTreeClassifier(max_features=3, random_state=791274835),\n",
       " DecisionTreeClassifier(max_features=3, random_state=1035196507),\n",
       " DecisionTreeClassifier(max_features=3, random_state=1890440558),\n",
       " DecisionTreeClassifier(max_features=3, random_state=787110843),\n",
       " DecisionTreeClassifier(max_features=3, random_state=524150214),\n",
       " DecisionTreeClassifier(max_features=3, random_state=472432043),\n",
       " DecisionTreeClassifier(max_features=3, random_state=2126768636),\n",
       " DecisionTreeClassifier(max_features=3, random_state=1431061255),\n",
       " DecisionTreeClassifier(max_features=3, random_state=147697582),\n",
       " DecisionTreeClassifier(max_features=3, random_state=744595490),\n",
       " DecisionTreeClassifier(max_features=3, random_state=1758017741),\n",
       " DecisionTreeClassifier(max_features=3, random_state=1679592528),\n",
       " DecisionTreeClassifier(max_features=3, random_state=1111451555),\n",
       " DecisionTreeClassifier(max_features=3, random_state=782698033),\n",
       " DecisionTreeClassifier(max_features=3, random_state=698027879),\n",
       " DecisionTreeClassifier(max_features=3, random_state=1096768899),\n",
       " DecisionTreeClassifier(max_features=3, random_state=1338788865),\n",
       " DecisionTreeClassifier(max_features=3, random_state=1826030589),\n",
       " DecisionTreeClassifier(max_features=3, random_state=86191493),\n",
       " DecisionTreeClassifier(max_features=3, random_state=893102645),\n",
       " DecisionTreeClassifier(max_features=3, random_state=200619113),\n",
       " DecisionTreeClassifier(max_features=3, random_state=290770691),\n",
       " DecisionTreeClassifier(max_features=3, random_state=793943861),\n",
       " DecisionTreeClassifier(max_features=3, random_state=134489564)]"
      ]
     },
     "execution_count": 142,
     "metadata": {},
     "output_type": "execute_result"
    }
   ],
   "source": [
    "rfc.estimators_"
   ]
  },
  {
   "cell_type": "code",
   "execution_count": 143,
   "id": "c1064d98",
   "metadata": {
    "ExecuteTime": {
     "end_time": "2023-03-17T19:11:10.074676Z",
     "start_time": "2023-03-17T19:11:10.055655Z"
    }
   },
   "outputs": [
    {
     "data": {
      "text/plain": [
       "array([0, 1])"
      ]
     },
     "execution_count": 143,
     "metadata": {},
     "output_type": "execute_result"
    }
   ],
   "source": [
    "rfc.classes_"
   ]
  },
  {
   "cell_type": "code",
   "execution_count": 144,
   "id": "68963791",
   "metadata": {
    "ExecuteTime": {
     "end_time": "2023-03-17T19:11:11.101259Z",
     "start_time": "2023-03-17T19:11:11.069823Z"
    }
   },
   "outputs": [
    {
     "name": "stderr",
     "output_type": "stream",
     "text": [
      "C:\\ProgramData\\Anaconda3\\lib\\site-packages\\sklearn\\utils\\deprecation.py:103: FutureWarning: Attribute `n_features_` was deprecated in version 1.0 and will be removed in 1.2. Use `n_features_in_` instead.\n",
      "  warnings.warn(msg, category=FutureWarning)\n"
     ]
    },
    {
     "data": {
      "text/plain": [
       "5"
      ]
     },
     "execution_count": 144,
     "metadata": {},
     "output_type": "execute_result"
    }
   ],
   "source": [
    "rfc.n_features_"
   ]
  },
  {
   "cell_type": "code",
   "execution_count": 145,
   "id": "82df271d",
   "metadata": {
    "ExecuteTime": {
     "end_time": "2023-03-17T19:11:13.104867Z",
     "start_time": "2023-03-17T19:11:13.084207Z"
    }
   },
   "outputs": [
    {
     "data": {
      "text/plain": [
       "2"
      ]
     },
     "execution_count": 145,
     "metadata": {},
     "output_type": "execute_result"
    }
   ],
   "source": [
    "rfc.n_classes_"
   ]
  },
  {
   "cell_type": "code",
   "execution_count": 146,
   "id": "4c1b3432",
   "metadata": {
    "ExecuteTime": {
     "end_time": "2023-03-17T19:11:14.242362Z",
     "start_time": "2023-03-17T19:11:14.212555Z"
    }
   },
   "outputs": [
    {
     "data": {
      "text/plain": [
       "1"
      ]
     },
     "execution_count": 146,
     "metadata": {},
     "output_type": "execute_result"
    }
   ],
   "source": [
    "rfc.n_outputs_"
   ]
  },
  {
   "cell_type": "code",
   "execution_count": 147,
   "id": "8d2ccbb0",
   "metadata": {
    "ExecuteTime": {
     "end_time": "2023-03-17T19:11:16.573717Z",
     "start_time": "2023-03-17T19:11:16.524473Z"
    }
   },
   "outputs": [
    {
     "data": {
      "text/plain": [
       "array([0, 0, 0, 0, 1, 0, 0, 0, 0, 1, 0, 0, 0, 1, 0, 1, 0, 0, 0, 1, 0, 1,\n",
       "       1, 0, 0, 0, 0, 0, 0, 0, 0, 0, 0, 0, 0, 0, 0, 0, 0, 1, 0, 0, 0, 0,\n",
       "       0, 0, 0, 0, 1, 0, 0, 0, 0, 0, 0, 0, 1, 0, 1, 0, 0, 0, 0, 0, 0, 0,\n",
       "       0, 1, 0, 1, 0, 1, 0, 0, 0, 1, 0, 0, 1, 0, 0, 1, 1, 0, 0, 0, 1, 0,\n",
       "       0, 1, 0, 0, 0, 1, 0, 0, 1, 0, 0, 1, 1, 0, 0, 1, 0, 0, 0, 0, 0, 0,\n",
       "       0, 0, 0, 1, 1, 0, 0, 0, 0, 0, 0, 0, 0, 1, 1, 0, 0, 0, 0, 0, 0, 0,\n",
       "       0, 1, 0, 0, 0, 0, 0, 0, 0, 0, 0, 0, 0, 0, 0, 1, 0, 1, 0, 0, 0, 0,\n",
       "       1, 0, 0, 1, 1, 0, 0, 0, 0, 1, 1, 1, 0, 0, 0, 0, 0, 0, 0, 0, 0, 1,\n",
       "       0, 0, 0, 1, 1, 0, 0, 0, 0, 0, 1, 1, 0, 0, 1, 0, 1, 0, 1, 0, 0, 0,\n",
       "       0, 0, 0, 0, 0, 0, 1, 0, 1, 0, 0, 0, 0, 1, 0, 0, 0, 0, 0, 0, 1, 1,\n",
       "       0, 0, 0, 0, 0, 0, 0, 1, 0, 0, 0, 0, 0, 0, 0, 0, 0, 0, 0, 0, 1, 0,\n",
       "       1, 1, 0, 0, 0, 0, 0, 0, 0, 1, 0, 0, 0, 0, 0, 1, 0, 0, 0, 0, 0, 0,\n",
       "       0, 0, 1, 1, 0, 0, 0, 0, 0, 0, 0, 0, 0, 0, 0, 0, 0, 0, 0, 1, 0, 0,\n",
       "       0, 0, 0, 0, 0, 1, 0, 0, 0, 0, 0, 0, 0, 0, 0, 1, 0, 0, 0, 0, 0, 0,\n",
       "       1, 0, 1, 0, 0, 0, 0, 0, 0, 0, 1, 0, 0, 0, 0, 0, 0, 1, 0, 0, 1, 0,\n",
       "       1, 0, 1, 0, 0, 0, 0, 0, 0, 1, 0, 0, 0, 0, 0, 0, 0, 0, 1, 0, 0, 0,\n",
       "       0, 1, 0, 0, 0, 0, 0, 0, 0, 0, 1, 0, 0, 0, 0, 0, 0, 0, 0, 1, 1, 1,\n",
       "       0, 1, 0, 0, 0, 0, 1, 1, 0, 0, 0, 1, 0, 1, 0, 0, 0, 1, 0, 0, 0, 0,\n",
       "       0, 1, 0, 0, 0, 0, 0, 0, 0, 0, 1, 0, 0, 0, 1, 0, 0, 0, 0, 0, 0, 0,\n",
       "       0, 0, 0, 0, 0, 0, 0, 0, 1, 1, 0, 0, 0, 0, 0, 1, 0, 1, 0, 1, 0, 0,\n",
       "       0, 0, 0, 0, 0, 0, 0, 0, 0, 0, 1, 0, 0, 0, 1, 0, 1, 0, 0, 0, 0, 0,\n",
       "       1, 0, 0, 0, 0, 0, 1, 1, 0, 0, 0, 1, 0, 0, 1, 0, 0, 0])"
      ]
     },
     "execution_count": 147,
     "metadata": {},
     "output_type": "execute_result"
    }
   ],
   "source": [
    "# Predictions on train data\n",
    "pred_train = rfc.predict(x_train)\n",
    "pred_train"
   ]
  },
  {
   "cell_type": "code",
   "execution_count": 148,
   "id": "c726813d",
   "metadata": {
    "ExecuteTime": {
     "end_time": "2023-03-17T19:11:19.961830Z",
     "start_time": "2023-03-17T19:11:19.948760Z"
    }
   },
   "outputs": [
    {
     "data": {
      "text/plain": [
       "1.0"
      ]
     },
     "execution_count": 148,
     "metadata": {},
     "output_type": "execute_result"
    }
   ],
   "source": [
    "# Accuracy score on train data \n",
    "from sklearn.metrics import accuracy_score\n",
    "acc_train = accuracy_score(y_train,pred_train)\n",
    "acc_train"
   ]
  },
  {
   "cell_type": "code",
   "execution_count": 149,
   "id": "4a59a6bd",
   "metadata": {
    "ExecuteTime": {
     "end_time": "2023-03-17T19:11:22.870987Z",
     "start_time": "2023-03-17T19:11:22.845205Z"
    }
   },
   "outputs": [
    {
     "data": {
      "text/plain": [
       "1.0"
      ]
     },
     "execution_count": 149,
     "metadata": {},
     "output_type": "execute_result"
    }
   ],
   "source": [
    "np.mean(prediction == y_train)"
   ]
  },
  {
   "cell_type": "code",
   "execution_count": 150,
   "id": "e1038a24",
   "metadata": {
    "ExecuteTime": {
     "end_time": "2023-03-17T19:11:34.416551Z",
     "start_time": "2023-03-17T19:11:34.400063Z"
    }
   },
   "outputs": [
    {
     "data": {
      "text/plain": [
       "array([[382,   0],\n",
       "       [  0,  98]], dtype=int64)"
      ]
     },
     "execution_count": 150,
     "metadata": {},
     "output_type": "execute_result"
    }
   ],
   "source": [
    "# confusion matrix \n",
    "from sklearn.metrics import confusion_matrix\n",
    "confusion = confusion_matrix(y_train,pred_train)\n",
    "confusion"
   ]
  },
  {
   "cell_type": "code",
   "execution_count": 151,
   "id": "c3943608",
   "metadata": {
    "ExecuteTime": {
     "end_time": "2023-03-17T19:11:38.390290Z",
     "start_time": "2023-03-17T19:11:38.350431Z"
    }
   },
   "outputs": [
    {
     "data": {
      "text/plain": [
       "array([0, 0, 0, 0, 0, 0, 0, 0, 0, 0, 0, 0, 0, 0, 1, 0, 0, 0, 0, 0, 0, 0,\n",
       "       0, 0, 0, 0, 0, 0, 0, 0, 0, 0, 0, 0, 0, 0, 0, 0, 0, 0, 0, 0, 0, 0,\n",
       "       0, 0, 0, 0, 0, 0, 0, 0, 0, 0, 0, 0, 0, 0, 0, 0, 0, 0, 0, 0, 0, 0,\n",
       "       0, 0, 0, 0, 0, 0, 1, 0, 0, 0, 1, 0, 0, 0, 0, 0, 0, 0, 0, 0, 1, 0,\n",
       "       0, 0, 0, 0, 0, 0, 0, 0, 0, 0, 0, 0, 0, 0, 0, 0, 0, 0, 0, 0, 0, 0,\n",
       "       0, 0, 0, 0, 0, 0, 0, 0, 0, 0])"
      ]
     },
     "execution_count": 151,
     "metadata": {},
     "output_type": "execute_result"
    }
   ],
   "source": [
    "# Prediction on test data\n",
    "pred_test = rfc.predict(x_test)\n",
    "pred_test"
   ]
  },
  {
   "cell_type": "code",
   "execution_count": 152,
   "id": "67b4bef4",
   "metadata": {
    "ExecuteTime": {
     "end_time": "2023-03-17T19:11:40.580408Z",
     "start_time": "2023-03-17T19:11:40.551435Z"
    }
   },
   "outputs": [
    {
     "data": {
      "text/plain": [
       "0.75"
      ]
     },
     "execution_count": 152,
     "metadata": {},
     "output_type": "execute_result"
    }
   ],
   "source": [
    "# Accuracy on test data\n",
    "acc_test =accuracy_score(y_test,pred_test)\n",
    "acc_test"
   ]
  },
  {
   "cell_type": "code",
   "execution_count": 153,
   "id": "00c85a79",
   "metadata": {
    "ExecuteTime": {
     "end_time": "2023-03-17T19:11:45.378493Z",
     "start_time": "2023-03-17T19:11:43.071721Z"
    }
   },
   "outputs": [
    {
     "data": {
      "text/plain": [
       "array([0.73333333, 0.78333333, 0.75      , 0.66666667, 0.71666667,\n",
       "       0.73333333, 0.81666667, 0.71666667, 0.71666667, 0.8       ])"
      ]
     },
     "execution_count": 153,
     "metadata": {},
     "output_type": "execute_result"
    }
   ],
   "source": [
    "from sklearn.model_selection import cross_val_score\n",
    "results = cross_val_score(rfc, x, y, cv=kfold)\n",
    "results"
   ]
  },
  {
   "cell_type": "code",
   "execution_count": 118,
   "id": "684ece5e",
   "metadata": {
    "ExecuteTime": {
     "end_time": "2023-03-17T17:07:28.861367Z",
     "start_time": "2023-03-17T17:07:23.574518Z"
    }
   },
   "outputs": [
    {
     "name": "stdout",
     "output_type": "stream",
     "text": [
      "Defaulting to user installation because normal site-packages is not writeable\n",
      "Requirement already satisfied: pydotplus in c:\\users\\hp\\appdata\\roaming\\python\\python39\\site-packages (2.0.2)\n",
      "Requirement already satisfied: pyparsing>=2.0.1 in c:\\programdata\\anaconda3\\lib\\site-packages (from pydotplus) (3.0.9)\n",
      "Note: you may need to restart the kernel to use updated packages.\n"
     ]
    }
   ],
   "source": [
    "!pip install pydotplus"
   ]
  },
  {
   "cell_type": "code",
   "execution_count": 119,
   "id": "5929acfc",
   "metadata": {
    "ExecuteTime": {
     "end_time": "2023-03-17T17:07:32.597697Z",
     "start_time": "2023-03-17T17:07:32.577236Z"
    }
   },
   "outputs": [
    {
     "data": {
      "text/plain": [
       "DecisionTreeClassifier(max_features=3, random_state=1201263687)"
      ]
     },
     "execution_count": 119,
     "metadata": {},
     "output_type": "execute_result"
    }
   ],
   "source": [
    "tree = rfc.estimators_[5]\n",
    "tree"
   ]
  },
  {
   "cell_type": "code",
   "execution_count": 120,
   "id": "3d254d07",
   "metadata": {
    "ExecuteTime": {
     "end_time": "2023-03-17T17:07:34.069507Z",
     "start_time": "2023-03-17T17:07:34.053927Z"
    }
   },
   "outputs": [
    {
     "data": {
      "text/plain": [
       "<_io.StringIO at 0x2193301fa60>"
      ]
     },
     "execution_count": 120,
     "metadata": {},
     "output_type": "execute_result"
    }
   ],
   "source": [
    "dot_data = StringIO()\n",
    "dot_data"
   ]
  },
  {
   "cell_type": "code",
   "execution_count": 121,
   "id": "53674a30",
   "metadata": {
    "ExecuteTime": {
     "end_time": "2023-03-17T17:07:34.873318Z",
     "start_time": "2023-03-17T17:07:34.822340Z"
    }
   },
   "outputs": [],
   "source": [
    "export_graphviz(tree,out_file = dot_data, filled = True,rounded = True,\n",
    "                feature_names = predictors ,class_names = target,impurity =False)"
   ]
  },
  {
   "cell_type": "code",
   "execution_count": 122,
   "id": "03a0c14f",
   "metadata": {
    "ExecuteTime": {
     "end_time": "2023-03-17T17:07:38.113327Z",
     "start_time": "2023-03-17T17:07:35.412115Z"
    }
   },
   "outputs": [
    {
     "data": {
      "text/plain": [
       "<pydotplus.graphviz.Dot at 0x2192bfe95b0>"
      ]
     },
     "execution_count": 122,
     "metadata": {},
     "output_type": "execute_result"
    }
   ],
   "source": [
    "graph = pydotplus.graph_from_dot_data(dot_data.getvalue())\n",
    "graph"
   ]
  },
  {
   "cell_type": "code",
   "execution_count": null,
   "id": "629a5d08",
   "metadata": {},
   "outputs": [],
   "source": []
  }
 ],
 "metadata": {
  "kernelspec": {
   "display_name": "Python 3 (ipykernel)",
   "language": "python",
   "name": "python3"
  },
  "language_info": {
   "codemirror_mode": {
    "name": "ipython",
    "version": 3
   },
   "file_extension": ".py",
   "mimetype": "text/x-python",
   "name": "python",
   "nbconvert_exporter": "python",
   "pygments_lexer": "ipython3",
   "version": "3.9.13"
  }
 },
 "nbformat": 4,
 "nbformat_minor": 5
}
